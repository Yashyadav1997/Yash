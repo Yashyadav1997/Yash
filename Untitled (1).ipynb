{
 "cells": [
  {
   "cell_type": "markdown",
   "id": "273525ba-4762-4438-9dbc-a86b145a0166",
   "metadata": {},
   "source": [
    "8239729798731+2389371273162937*2398712938712/21893712831203*213213123/12312/312*31/2*3/21*3/21*3/3211*123213*1/2312*/312*3/1111\n",
    "\n"
   ]
  },
  {
   "cell_type": "code",
   "execution_count": 9,
   "id": "47880181-e98e-4769-95c3-5ec2e74cf410",
   "metadata": {},
   "outputs": [
    {
     "data": {
      "text/plain": [
       "'yashyadav'"
      ]
     },
     "execution_count": 9,
     "metadata": {},
     "output_type": "execute_result"
    }
   ],
   "source": [
    "\"yash\" + \"yadav\"\n",
    "\n"
   ]
  },
  {
   "cell_type": "raw",
   "id": "0c3f6f60-4c12-41fe-98d6-9453abf387b4",
   "metadata": {},
   "source": [
    "what is your name \n",
    " my name is yash "
   ]
  },
  {
   "cell_type": "code",
   "execution_count": null,
   "id": "92b3e35b-06c5-4a8b-bf01-dbd5026758f8",
   "metadata": {},
   "outputs": [],
   "source": []
  },
  {
   "cell_type": "code",
   "execution_count": null,
   "id": "aba626de-b326-47a0-84e1-8b6895be54be",
   "metadata": {},
   "outputs": [],
   "source": []
  },
  {
   "cell_type": "code",
   "execution_count": null,
   "id": "32873c1f-1cb0-4c7f-8ae9-05cd374fad24",
   "metadata": {},
   "outputs": [],
   "source": []
  }
 ],
 "metadata": {
  "kernelspec": {
   "display_name": "Python 3 (ipykernel)",
   "language": "python",
   "name": "python3"
  },
  "language_info": {
   "codemirror_mode": {
    "name": "ipython",
    "version": 3
   },
   "file_extension": ".py",
   "mimetype": "text/x-python",
   "name": "python",
   "nbconvert_exporter": "python",
   "pygments_lexer": "ipython3",
   "version": "3.9.12"
  }
 },
 "nbformat": 4,
 "nbformat_minor": 5
}
